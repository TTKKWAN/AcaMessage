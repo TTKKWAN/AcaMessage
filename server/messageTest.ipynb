{
 "cells": [
  {
   "cell_type": "code",
   "execution_count": 1,
   "metadata": {},
   "outputs": [],
   "source": [
    "import json\n",
    "import requests"
   ]
  },
  {
   "cell_type": "code",
   "execution_count": 24,
   "metadata": {},
   "outputs": [
    {
     "name": "stdout",
     "output_type": "stream",
     "text": [
      "{'access_token': 'n0XSeS3FHZ5dqmRCAFQsK_auwZGhR-ZDAAAAAQoqJU8AAAGRnXwq41v0-avl6D9k', 'token_type': 'bearer', 'refresh_token': '1DipuPlZa8JPtp7omUb6qQb8YqiOWdefAAAAAgoqJU8AAAGRnXwq31v0-avl6D9k', 'expires_in': 21599, 'scope': 'talk_message', 'refresh_token_expires_in': 5183999}\n"
     ]
    }
   ],
   "source": [
    "# 카카오톡 메시지 API\n",
    "url = \"https://kauth.kakao.com/oauth/token\"\n",
    "data = {\n",
    "    \"grant_type\" : \"authorization_code\",\n",
    "    \"client_id\" : \"fe07acae3c2543dba554df7ad707dc2e\",\n",
    "    \"redirect_url\" : \"https://localhost:3000\",\n",
    "    \"code\" : \"Ook1WJuC7aguNpqGPowTYI0bhkyLQhhavRzHphSa91HbN2sVT70FrAAAAAQKPCQgAAABkZ17wYvMISgqRbFCUQ\"\n",
    "}\n",
    "response = requests.post(url, data=data)\n",
    "tokens = response.json()\n",
    "print(tokens)\n",
    "access_token = tokens[\"access_token\"]"
   ]
  },
  {
   "cell_type": "code",
   "execution_count": 27,
   "metadata": {},
   "outputs": [],
   "source": [
    "access_token = \"n0XSeS3FHZ5dqmRCAFQsK_auwZGhR-ZDAAAAAQoqJU8AAAGRnXwq41v0-avl6D9k\""
   ]
  },
  {
   "cell_type": "code",
   "execution_count": 28,
   "metadata": {},
   "outputs": [
    {
     "name": "stdout",
     "output_type": "stream",
     "text": [
      "n0XSeS3FHZ5dqmRCAFQsK_auwZGhR-ZDAAAAAQoqJU8AAAGRnXwq41v0-avl6D9k\n"
     ]
    }
   ],
   "source": [
    "print(access_token)"
   ]
  },
  {
   "cell_type": "code",
   "execution_count": 3,
   "metadata": {},
   "outputs": [],
   "source": [
    "# kakao_code.json 파일 저장\n",
    "with open(\"kakao_code.json\", \"w\") as fp:\n",
    "    json.dump(tokens, fp)"
   ]
  },
  {
   "cell_type": "code",
   "execution_count": 30,
   "metadata": {},
   "outputs": [
    {
     "name": "stdout",
     "output_type": "stream",
     "text": [
      "메시지를 성공적으로 보냈습니다.\n"
     ]
    }
   ],
   "source": [
    "url = \"https://kapi.kakao.com/v2/api/talk/memo/default/send\"\n",
    "headers = {\n",
    "    \"Authorization\": \"Bearer \" + access_token\n",
    "}\n",
    "data = {\n",
    "    \"template_object\" : json.dumps({ \"object_type\" : \"text\",\n",
    "                                    \"text\" : \"Acamessagetext2\",\n",
    "                                    \"link\" : {\n",
    "            \"web_url\": \"https://www.google.co.kr/search?q=drone&source=lnms&tbm=nws\",\n",
    "            \"mobile_web_url\": \"https://developers.kakao.com\"\n",
    "        }\n",
    "    })\n",
    "}\n",
    "response = requests.post(url, headers=headers, data=data)\n",
    "if response.json().get('result_code') == 0:\n",
    "    print('메시지를 성공적으로 보냈습니다.')\n",
    "else:\n",
    "    print('메시지를 성공적으로 보내지 못했습니다. 오류메시지 : ' + str(response.json()))"
   ]
  }
 ],
 "metadata": {
  "kernelspec": {
   "display_name": "acavenv",
   "language": "python",
   "name": "python3"
  },
  "language_info": {
   "codemirror_mode": {
    "name": "ipython",
    "version": 3
   },
   "file_extension": ".py",
   "mimetype": "text/x-python",
   "name": "python",
   "nbconvert_exporter": "python",
   "pygments_lexer": "ipython3",
   "version": "3.12.3"
  }
 },
 "nbformat": 4,
 "nbformat_minor": 2
}
